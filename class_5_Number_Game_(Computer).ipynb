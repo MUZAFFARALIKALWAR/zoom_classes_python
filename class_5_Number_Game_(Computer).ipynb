{
  "nbformat": 4,
  "nbformat_minor": 0,
  "metadata": {
    "colab": {
      "provenance": [],
      "authorship_tag": "ABX9TyNT5bhC9IrE/JtVP3GcQ9rc",
      "include_colab_link": true
    },
    "kernelspec": {
      "name": "python3",
      "display_name": "Python 3"
    },
    "language_info": {
      "name": "python"
    }
  },
  "cells": [
    {
      "cell_type": "markdown",
      "metadata": {
        "id": "view-in-github",
        "colab_type": "text"
      },
      "source": [
        "<a href=\"https://colab.research.google.com/github/MUZAFFARALIKALWAR/zoom_classes_python/blob/main/class_5_Number_Game_(Computer).ipynb\" target=\"_parent\"><img src=\"https://colab.research.google.com/assets/colab-badge.svg\" alt=\"Open In Colab\"/></a>"
      ]
    },
    {
      "cell_type": "code",
      "execution_count": 31,
      "metadata": {
        "colab": {
          "base_uri": "https://localhost:8080/"
        },
        "id": "4BWJXbxrCBjc",
        "outputId": "cfd22e97-4169-4bf5-bcb0-02622b15e898"
      },
      "outputs": [
        {
          "output_type": "stream",
          "name": "stdout",
          "text": [
            "0\n",
            "1\n",
            "2\n",
            "3\n",
            "4\n",
            "5\n",
            "6\n",
            "7\n",
            "8\n",
            "9\n",
            "10\n"
          ]
        }
      ],
      "source": [
        "for i in range(0,11,1):\n",
        "    print(i)"
      ]
    },
    {
      "cell_type": "code",
      "source": [
        "import time\n",
        "for i in range(10,0,-1):\n",
        "    time.sleep(1)\n",
        "    print(f\"{i}..\")"
      ],
      "metadata": {
        "colab": {
          "base_uri": "https://localhost:8080/"
        },
        "id": "kvXFEWJYEkqr",
        "outputId": "e78e6743-2574-4a95-f2ee-a27af9d2cabb"
      },
      "execution_count": 32,
      "outputs": [
        {
          "output_type": "stream",
          "name": "stdout",
          "text": [
            "10..\n",
            "9..\n",
            "8..\n",
            "7..\n",
            "6..\n",
            "5..\n",
            "4..\n",
            "3..\n",
            "2..\n",
            "1..\n"
          ]
        }
      ]
    },
    {
      "cell_type": "markdown",
      "source": [
        "# **Guess the Number Game Python Project (computer)**"
      ],
      "metadata": {
        "id": "oJgKoHP5Fag6"
      }
    },
    {
      "cell_type": "code",
      "source": [
        "import random\n",
        "print(\"Socho ek secret number 1 se 10 ke beech! 🤔\")\n",
        "user_input = int(input(\"Apna secret number likho (Computer isko guess karega): \"))\n",
        "\n",
        "computer_num = random.randint(1,10)\n",
        "print(f\"Computer ka pehla guess hai: {computer_num}\")\n",
        "\n",
        "while True:\n",
        " feedback = input(\"Kya yeh guess sahi hai? (bara/chhota/sahi):\")\n",
        " if feedback == \"sahi\":\n",
        "    print(\"Yay! 🎉 Computer ne sahi guess kar liya! ✅\")\n",
        "    break\n",
        " elif feedback == \"chhota\":\n",
        "    print(\"Too Low..\")\n",
        " elif feedback == \"bara\":\n",
        "   print(\"Too High...\")\n",
        " else:\n",
        "   print(\"Galat input! Sirf 'bara', 'chhota' ya 'sahi' likho.\")\n",
        "   continue\n",
        " computer_num = random.randint(1,10)\n",
        " print(f\"Computer ka naya guess hai:{computer_num}\")\n",
        "\n"
      ],
      "metadata": {
        "colab": {
          "base_uri": "https://localhost:8080/"
        },
        "id": "zZ8zd1hsFhb-",
        "outputId": "c761028c-c594-435c-e2e0-9b4aa8be67cc"
      },
      "execution_count": 30,
      "outputs": [
        {
          "output_type": "stream",
          "name": "stdout",
          "text": [
            "Socho ek secret number 1 se 10 ke beech! 🤔\n",
            "Apna secret number likho (Computer isko guess karega): 5\n",
            "Computer ka pehla guess hai: 7\n",
            "Kya yeh guess sahi hai? (bara/chhota/sahi):bara\n",
            "Too High...\n",
            "Computer ka naya guess hai:7\n",
            "Kya yeh guess sahi hai? (bara/chhota/sahi):bara\n",
            "Too High...\n",
            "Computer ka naya guess hai:6\n",
            "Kya yeh guess sahi hai? (bara/chhota/sahi):bara\n",
            "Too High...\n",
            "Computer ka naya guess hai:8\n",
            "Kya yeh guess sahi hai? (bara/chhota/sahi):bara\n",
            "Too High...\n",
            "Computer ka naya guess hai:8\n",
            "Kya yeh guess sahi hai? (bara/chhota/sahi):bara\n",
            "Too High...\n",
            "Computer ka naya guess hai:6\n",
            "Kya yeh guess sahi hai? (bara/chhota/sahi):bara\n",
            "Too High...\n",
            "Computer ka naya guess hai:4\n",
            "Kya yeh guess sahi hai? (bara/chhota/sahi):chhota\n",
            "Too Low..\n",
            "Computer ka naya guess hai:9\n",
            "Kya yeh guess sahi hai? (bara/chhota/sahi):bara\n",
            "Too High...\n",
            "Computer ka naya guess hai:4\n",
            "Kya yeh guess sahi hai? (bara/chhota/sahi):sahi\n",
            "Yay! 🎉 Computer ne sahi guess kar liya! ✅\n"
          ]
        }
      ]
    }
  ]
}