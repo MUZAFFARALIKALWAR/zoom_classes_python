{
  "nbformat": 4,
  "nbformat_minor": 0,
  "metadata": {
    "colab": {
      "provenance": [],
      "authorship_tag": "ABX9TyMZSM9iWxMzW1jXKCIsrFcx",
      "include_colab_link": true
    },
    "kernelspec": {
      "name": "python3",
      "display_name": "Python 3"
    },
    "language_info": {
      "name": "python"
    }
  },
  "cells": [
    {
      "cell_type": "markdown",
      "metadata": {
        "id": "view-in-github",
        "colab_type": "text"
      },
      "source": [
        "<a href=\"https://colab.research.google.com/github/MUZAFFARALIKALWAR/zoom_classes_python/blob/main/class_7_Logic_Building.ipynb\" target=\"_parent\"><img src=\"https://colab.research.google.com/assets/colab-badge.svg\" alt=\"Open In Colab\"/></a>"
      ]
    },
    {
      "cell_type": "code",
      "execution_count": 1,
      "metadata": {
        "colab": {
          "base_uri": "https://localhost:8080/"
        },
        "id": "nfoIGaHUGnQC",
        "outputId": "748b5970-5bb3-46aa-b019-67a25046a246"
      },
      "outputs": [
        {
          "output_type": "stream",
          "name": "stdout",
          "text": [
            "1\n",
            "2\n",
            "3\n",
            "4\n",
            "5\n",
            "6\n",
            "7\n",
            "8\n",
            "9\n",
            "10\n"
          ]
        }
      ],
      "source": [
        "# Aik program likho jo 1 se 10 tak numbers print kare.\n",
        "for i in range(1,11):\n",
        "    print(i)"
      ]
    },
    {
      "cell_type": "code",
      "source": [
        "# 2. Aik program likho jo user se aik number ley aur uska square print kare.\n",
        "user_input = int(input(\"Enter a Number: \"))\n",
        "# square = user_input * user_input\n",
        "square = user_input ** 2\n",
        "print(square)\n",
        "\n",
        "\n",
        "\n",
        "# print(5*5)\n",
        "# print(5**2)"
      ],
      "metadata": {
        "colab": {
          "base_uri": "https://localhost:8080/"
        },
        "id": "qbC4Bm2XJTNc",
        "outputId": "a7712777-b0b1-4fd3-9e2a-6e91ff711beb"
      },
      "execution_count": 6,
      "outputs": [
        {
          "output_type": "stream",
          "name": "stdout",
          "text": [
            "Enter a Number: 5\n",
            "25\n"
          ]
        }
      ]
    },
    {
      "cell_type": "code",
      "source": [
        "# 3. Aik program likho jo do numbers ko add kare aur result print kare.\n",
        "def sum(num1,num2):\n",
        "   return num1+num2\n",
        "user_num = int(input(\"Enter 1st Number: \"))\n",
        "user_num2 = int(input(\"Enter second Number: \"))\n",
        "sum(user_num,user_num2)"
      ],
      "metadata": {
        "id": "O26zXtdSMRiz",
        "outputId": "ce09ba7a-32a9-4479-8b7d-0c8368b80f3e",
        "colab": {
          "base_uri": "https://localhost:8080/"
        }
      },
      "execution_count": 7,
      "outputs": [
        {
          "name": "stdout",
          "output_type": "stream",
          "text": [
            "Enter 1st Number: 5\n",
            "Enter second Number: 6\n"
          ]
        },
        {
          "output_type": "execute_result",
          "data": {
            "text/plain": [
              "11"
            ]
          },
          "metadata": {},
          "execution_count": 7
        }
      ]
    },
    {
      "cell_type": "code",
      "source": [
        "# 4. Aik program likho jo user se naam ley aur \"Hello, [naam]!\" print kare.\n",
        "user_name = input(\"Enter Your Name: \")\n",
        "# print(f\"Hello {user_name}\")\n",
        "def greet(name):\n",
        "  return f\"Hello, {[name]}\"\n",
        "\n",
        "res =  greet(user_name)\n",
        "print(res)"
      ],
      "metadata": {
        "id": "4xSvI7X_M6rW",
        "outputId": "b4f41e17-4a85-4712-d7f4-0375da7d26e5",
        "colab": {
          "base_uri": "https://localhost:8080/"
        }
      },
      "execution_count": 13,
      "outputs": [
        {
          "output_type": "stream",
          "name": "stdout",
          "text": [
            "Enter Your Name: Muzaffar\n",
            "Hello, ['Muzaffar']\n"
          ]
        }
      ]
    },
    {
      "cell_type": "code",
      "source": [
        "# 5. Aik program likho jo ek list mai mojood tamam numbers ka sum nikalay.\n",
        "numbers = [1,2,3,4,5,6,7]\n",
        "res = sum(numbers)\n",
        "print(res)\n",
        "def sum(lst):\n",
        "    total = 0\n",
        "    for i in lst:\n",
        "      total += i\n",
        "    return total\n",
        "response = sum(numbers)\n",
        "print(response)"
      ],
      "metadata": {
        "id": "FhvIvbsDOl-s",
        "outputId": "cb164daf-c9ad-4cd4-9a99-99ea680aa689",
        "colab": {
          "base_uri": "https://localhost:8080/"
        }
      },
      "execution_count": 17,
      "outputs": [
        {
          "output_type": "stream",
          "name": "stdout",
          "text": [
            "28\n",
            "28\n"
          ]
        }
      ]
    },
    {
      "cell_type": "code",
      "source": [
        "# 6. Aik program likho jo user se ek string ley aur usko reverse kare.\n",
        "def reverse():\n",
        "  user_string = input(\"Enter a msg: \")\n",
        "  reversed = user_string[::-1]\n",
        "  print(reversed)\n",
        "\n",
        "reverse()"
      ],
      "metadata": {
        "id": "ErEJgtiWQY7H",
        "outputId": "f2d050b5-a8ea-4784-9ff8-d98b3cb918e1",
        "colab": {
          "base_uri": "https://localhost:8080/"
        }
      },
      "execution_count": 24,
      "outputs": [
        {
          "output_type": "stream",
          "name": "stdout",
          "text": [
            "Enter a msg: 1233\n",
            "3321\n"
          ]
        }
      ]
    },
    {
      "cell_type": "code",
      "source": [
        "# 7. Aik program likho jo ek list mai mojood sabse bara number dhoonday.\n",
        "# numbers = [1,2,3,4,5,6,7,8]\n",
        "def find_max(lst):\n",
        "  max_num = lst[0]\n",
        "  for num in lst:\n",
        "    if num > max_num :\n",
        "      max_num = num\n",
        "  print(max_num)\n",
        "\n",
        "find_max([1,2,3,4,5,6,74,8])"
      ],
      "metadata": {
        "id": "7kWlLzU5Sc9c",
        "outputId": "65307158-7b15-4223-ef56-f0e4c9194f20",
        "colab": {
          "base_uri": "https://localhost:8080/"
        }
      },
      "execution_count": 31,
      "outputs": [
        {
          "output_type": "stream",
          "name": "stdout",
          "text": [
            "74\n"
          ]
        }
      ]
    }
  ]
}