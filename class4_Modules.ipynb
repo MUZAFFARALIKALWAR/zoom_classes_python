{
  "nbformat": 4,
  "nbformat_minor": 0,
  "metadata": {
    "colab": {
      "provenance": [],
      "authorship_tag": "ABX9TyPOFBvhMcOvbgjxYj/YrqCe",
      "include_colab_link": true
    },
    "kernelspec": {
      "name": "python3",
      "display_name": "Python 3"
    },
    "language_info": {
      "name": "python"
    }
  },
  "cells": [
    {
      "cell_type": "markdown",
      "metadata": {
        "id": "view-in-github",
        "colab_type": "text"
      },
      "source": [
        "<a href=\"https://colab.research.google.com/github/MUZAFFARALIKALWAR/zoom_classes_python/blob/main/class4_Modules.ipynb\" target=\"_parent\"><img src=\"https://colab.research.google.com/assets/colab-badge.svg\" alt=\"Open In Colab\"/></a>"
      ]
    },
    {
      "cell_type": "code",
      "execution_count": 13,
      "metadata": {
        "colab": {
          "base_uri": "https://localhost:8080/"
        },
        "id": "921GADNwPx5_",
        "outputId": "2d121270-0c82-4290-ae7f-09614bfa3ba2"
      },
      "outputs": [
        {
          "output_type": "stream",
          "name": "stdout",
          "text": [
            "3\n"
          ]
        }
      ],
      "source": [
        "import random\n",
        "\n",
        "num = random.randint(1,6)\n",
        "\n",
        "print(num)"
      ]
    },
    {
      "cell_type": "code",
      "source": [
        "import time\n",
        "print(\"Hello world\")\n",
        "time.sleep(5)\n",
        "print(\"Hello Muzaffar\")"
      ],
      "metadata": {
        "colab": {
          "base_uri": "https://localhost:8080/"
        },
        "id": "lPF-LtzkRoNm",
        "outputId": "c4bc90a7-b5e0-4255-d816-f93680f57265"
      },
      "execution_count": 15,
      "outputs": [
        {
          "output_type": "stream",
          "name": "stdout",
          "text": [
            "Hello world\n",
            "Hello Muzaffar\n"
          ]
        }
      ]
    },
    {
      "cell_type": "code",
      "source": [
        "import mymodules\n",
        "print(mymodules.sum(5,5))"
      ],
      "metadata": {
        "colab": {
          "base_uri": "https://localhost:8080/"
        },
        "id": "5HM5yFptR-y_",
        "outputId": "607b887e-1e51-4960-f98c-0b5d9ca3dc86"
      },
      "execution_count": 25,
      "outputs": [
        {
          "output_type": "stream",
          "name": "stdout",
          "text": [
            "10\n"
          ]
        }
      ]
    },
    {
      "cell_type": "code",
      "source": [],
      "metadata": {
        "id": "0g3xQ8Q-TX64"
      },
      "execution_count": null,
      "outputs": []
    },
    {
      "cell_type": "code",
      "source": [
        "import my\n",
        "name = input(\"Enter Your Name \")\n",
        "res = my.greet(name)\n",
        "print(res)"
      ],
      "metadata": {
        "colab": {
          "base_uri": "https://localhost:8080/"
        },
        "id": "VFwScde-Sv0I",
        "outputId": "ae4ef6f2-defe-4f2f-fa48-7bb9dbfb5900"
      },
      "execution_count": 31,
      "outputs": [
        {
          "output_type": "stream",
          "name": "stdout",
          "text": [
            "Enter Your Name Ali\n",
            "Hello, Ali!\n"
          ]
        }
      ]
    },
    {
      "cell_type": "code",
      "source": [
        "!pip install gtts"
      ],
      "metadata": {
        "colab": {
          "base_uri": "https://localhost:8080/"
        },
        "id": "_ktsJTCJV8Yy",
        "outputId": "8c97268d-00a6-49d5-fe3f-4d4f1054cb3a"
      },
      "execution_count": 32,
      "outputs": [
        {
          "output_type": "stream",
          "name": "stdout",
          "text": [
            "Collecting gtts\n",
            "  Downloading gTTS-2.5.4-py3-none-any.whl.metadata (4.1 kB)\n",
            "Requirement already satisfied: requests<3,>=2.27 in /usr/local/lib/python3.11/dist-packages (from gtts) (2.32.3)\n",
            "Requirement already satisfied: click<8.2,>=7.1 in /usr/local/lib/python3.11/dist-packages (from gtts) (8.1.8)\n",
            "Requirement already satisfied: charset-normalizer<4,>=2 in /usr/local/lib/python3.11/dist-packages (from requests<3,>=2.27->gtts) (3.4.1)\n",
            "Requirement already satisfied: idna<4,>=2.5 in /usr/local/lib/python3.11/dist-packages (from requests<3,>=2.27->gtts) (3.10)\n",
            "Requirement already satisfied: urllib3<3,>=1.21.1 in /usr/local/lib/python3.11/dist-packages (from requests<3,>=2.27->gtts) (2.3.0)\n",
            "Requirement already satisfied: certifi>=2017.4.17 in /usr/local/lib/python3.11/dist-packages (from requests<3,>=2.27->gtts) (2025.1.31)\n",
            "Downloading gTTS-2.5.4-py3-none-any.whl (29 kB)\n",
            "Installing collected packages: gtts\n",
            "Successfully installed gtts-2.5.4\n"
          ]
        }
      ]
    },
    {
      "cell_type": "code",
      "source": [
        "from gtts import gTTS\n",
        "from IPython.display import Audio\n",
        "msg = input(\"Text to Speach \")\n",
        "tts =  gTTS(msg,lang=\"en\")\n",
        "tts.save(\"msg.mp3\")\n",
        "Audio(\"msg.mp3\",autoplay=True)"
      ],
      "metadata": {
        "colab": {
          "base_uri": "https://localhost:8080/",
          "height": 93
        },
        "id": "lZC01X_EWfAZ",
        "outputId": "9c0be038-1e1a-4633-ff9e-9d452375e23b"
      },
      "execution_count": 39,
      "outputs": [
        {
          "name": "stdout",
          "output_type": "stream",
          "text": [
            "Text to Speach hello studenst\n"
          ]
        },
        {
          "output_type": "execute_result",
          "data": {
            "text/plain": [
              "<IPython.lib.display.Audio object>"
            ],
            "text/html": [
              "\n",
              "                <audio  controls=\"controls\" autoplay=\"autoplay\">\n",
              "                    <source src=\"data:audio/mpeg;base64,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\" type=\"audio/mpeg\" />\n",
              "                    Your browser does not support the audio element.\n",
              "                </audio>\n",
              "              "
            ]
          },
          "metadata": {},
          "execution_count": 39
        }
      ]
    }
  ]
}