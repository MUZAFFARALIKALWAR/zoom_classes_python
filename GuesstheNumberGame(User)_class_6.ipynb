{
  "nbformat": 4,
  "nbformat_minor": 0,
  "metadata": {
    "colab": {
      "provenance": [],
      "authorship_tag": "ABX9TyMyqeAVwv8Pxc3KiPVq5tUt",
      "include_colab_link": true
    },
    "kernelspec": {
      "name": "python3",
      "display_name": "Python 3"
    },
    "language_info": {
      "name": "python"
    }
  },
  "cells": [
    {
      "cell_type": "markdown",
      "metadata": {
        "id": "view-in-github",
        "colab_type": "text"
      },
      "source": [
        "<a href=\"https://colab.research.google.com/github/MUZAFFARALIKALWAR/zoom_classes_python/blob/main/GuesstheNumberGame(User)_class_6.ipynb\" target=\"_parent\"><img src=\"https://colab.research.google.com/assets/colab-badge.svg\" alt=\"Open In Colab\"/></a>"
      ]
    },
    {
      "cell_type": "markdown",
      "source": [
        "# **GuesstheNumberGame(User)**"
      ],
      "metadata": {
        "id": "EDZLfkOBf4QV"
      }
    },
    {
      "cell_type": "code",
      "source": [
        "import random\n",
        "print(\"Computer ne ek secret number socha hai! 🧠 Ab usay guess karo! 🔢\")\n",
        "secret_number = random.randint(1,10)\n",
        "try:\n",
        " while True:\n",
        "   user_input = int(input(\"Apna andaza lagao (1-10): \"))\n",
        "   if user_input == secret_number:\n",
        "     print(\"Bingo! 🎉 Tumne sahi guess kar liya! ✅\")\n",
        "     break\n",
        "   elif user_input < secret_number:\n",
        "     print(\"Bara socho! 📈\")\n",
        "   elif user_input > secret_number:\n",
        "      print(\"Chota socho 👀\")\n",
        "except ValueError:\n",
        "    print(\"Invalid Input\")"
      ],
      "metadata": {
        "colab": {
          "base_uri": "https://localhost:8080/"
        },
        "id": "HOhQUWy-f6tw",
        "outputId": "07a57f6e-c00a-4be8-cfb8-3189f8f434fb"
      },
      "execution_count": 3,
      "outputs": [
        {
          "output_type": "stream",
          "name": "stdout",
          "text": [
            "Computer ne ek secret number socha hai! 🧠 Ab usay guess karo! 🔢\n",
            "Apna andaza lagao (1-10): kahjshsh\n",
            "Invalid Input\n"
          ]
        }
      ]
    },
    {
      "cell_type": "code",
      "source": [
        "try:\n",
        "  b = int(input(\"Enter a Number \"))\n",
        "  a = 10 / b\n",
        "except ZeroDivisionError:\n",
        "  print(\"ZeroDivisionError\")\n",
        "except ValueError:\n",
        "  print(\"Invalid Inpt\")\n",
        "else:\n",
        "  print(\"else \" , a);\n",
        "finally:\n",
        "   print(\"program end .. \")"
      ],
      "metadata": {
        "colab": {
          "base_uri": "https://localhost:8080/"
        },
        "id": "e8WNyHMTihZx",
        "outputId": "7e03bb2f-a30c-4180-90b4-b9cd4cee2f9d"
      },
      "execution_count": 23,
      "outputs": [
        {
          "output_type": "stream",
          "name": "stdout",
          "text": [
            "Enter a Number 3\n",
            "else  3.3333333333333335\n",
            "program end .. \n"
          ]
        }
      ]
    },
    {
      "cell_type": "code",
      "source": [
        "numbers = [88,99,77,66,77,33]\n",
        "\n",
        "def Find_Max(arry):\n",
        "     max = arry[0];\n",
        "     for i in arry:\n",
        "       if i > max:\n",
        "         max = i\n",
        "     indx = numbers.index(max)\n",
        "     print(indx)\n",
        "     print(max)\n",
        "Find_Max(numbers)\n"
      ],
      "metadata": {
        "colab": {
          "base_uri": "https://localhost:8080/"
        },
        "id": "PE0RSMoElZG1",
        "outputId": "6f3631b8-90cb-4900-8955-553e0cfc2cb9"
      },
      "execution_count": 34,
      "outputs": [
        {
          "output_type": "stream",
          "name": "stdout",
          "text": [
            "1\n",
            "99\n"
          ]
        }
      ]
    }
  ]
}